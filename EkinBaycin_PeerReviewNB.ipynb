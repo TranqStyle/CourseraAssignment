{
 "cells": [
  {
   "cell_type": "markdown",
   "metadata": {},
   "source": [
    "<center>\n",
    "    <img src=\"https://cf-courses-data.s3.us.cloud-object-storage.appdomain.cloud/IBMDeveloperSkillsNetwork-DS0105EN-SkillsNetwork/labs/Module2/images/SN_web_lightmode.png\" width=\"300\" alt=\"cognitiveclass.ai logo\"  />\n",
    "</center>\n"
   ]
  },
  {
   "cell_type": "markdown",
   "metadata": {},
   "source": [
    "#### Add your code below following the instructions given in the course\n"
   ]
  },
  {
   "cell_type": "markdown",
   "metadata": {},
   "source": [
    "# My Jupyter Notebook on IBM Watson Studio"
   ]
  },
  {
   "cell_type": "markdown",
   "metadata": {},
   "source": [
    "**Ekin Bayçın** <br>\n",
    "Physicist"
   ]
  },
  {
   "cell_type": "markdown",
   "metadata": {},
   "source": [
    "*I am interested in data science because, I want to increase efficiency and make more profits*"
   ]
  },
  {
   "cell_type": "markdown",
   "metadata": {},
   "source": [
    "### Cell below prints out \"Did it work?\""
   ]
  },
  {
   "cell_type": "code",
   "execution_count": 1,
   "metadata": {},
   "outputs": [
    {
     "name": "stdout",
     "output_type": "stream",
     "text": [
      "Did it work?\n"
     ]
    }
   ],
   "source": [
    "print(\"Did it work?\")"
   ]
  },
  {
   "attachments": {
    "46e11f17-3c8f-450b-aa48-2e5a21a1b191.jpg": {
     "image/jpeg": "[encoded data removed]"
    }
   },
   "cell_type": "markdown",
   "metadata": {},
   "source": [
    "Displaying\n",
    "---\n",
    "Horizontal Rule\n",
    "---\n",
    "---\n",
    "1. A\n",
    "2. Numbered\n",
    "3. List\n",
    "---\n",
    "- A\n",
    "- Bulleted\n",
    "- List\n",
    "---\n",
    "|This|is|\n",
    "|---|---|\n",
    "|my|table|\n",
    "\n",
    "---\n",
    "#### My Image\n",
    "![hq2.jpg](attachment:46e11f17-3c8f-450b-aa48-2e5a21a1b191.jpg)\n",
    "\n",
    "---\n",
    "#### My URL\n",
    "[Google](www.google.com)\n",
    "\n",
    "---\n",
    "#### Syntax Highlighting\n",
    "```Python\n",
    "print(\"This is Syntax Highlighting\")\n",
    "```\n",
    "\n",
    "---\n",
    "#### Blocked Quotes\n",
    "> Hello Everyone, my name is Yi Lon Ma\n",
    "\n",
    "---\n",
    "### Strikethrough\n",
    "~\"Strike Strike Strike\"~"
   ]
  },
  {
   "cell_type": "code",
   "execution_count": null,
   "metadata": {},
   "outputs": [],
   "source": []
  }
 ],
 "metadata": {
  "kernelspec": {
   "display_name": "Python",
   "language": "python",
   "name": "conda-env-python-py"
  },
  "language_info": {
   "codemirror_mode": {
    "name": "ipython",
    "version": 3
   },
   "file_extension": ".py",
   "mimetype": "text/x-python",
   "name": "python",
   "nbconvert_exporter": "python",
   "pygments_lexer": "ipython3",
   "version": "3.7.12"
  }
 },
 "nbformat": 4,
 "nbformat_minor": 4
}
